{
 "cells": [
  {
   "cell_type": "code",
   "execution_count": 3,
   "metadata": {},
   "outputs": [],
   "source": [
    "import pandas as pd\n",
    "import numpy as np"
   ]
  },
  {
   "cell_type": "code",
   "execution_count": 653,
   "metadata": {},
   "outputs": [],
   "source": [
    "excel = pd.read_excel('dados/Dados.xlsx')\n",
    "excel = excel.reindex(index=excel.index[::-1])"
   ]
  },
  {
   "cell_type": "code",
   "execution_count": 633,
   "metadata": {},
   "outputs": [],
   "source": [
    "def opVenda(maxima, venda, stopVenda, vendaCompra):\n",
    "    print('Operação: Venda')\n",
    "    resultado = 0\n",
    "    for i, j in zip(maxima[4:],np.arange(4,len(maxima))):\n",
    "        if i >= venda:\n",
    "            ind = j\n",
    "            entrada = i\n",
    "            print('Venda: '+str(entrada))\n",
    "            for (i,j) in zip(minima[ind:], maxima[ind:]):\n",
    "                if i <= vendaCompra:\n",
    "                    print('compra', i)\n",
    "                    resultado = venda - vendaCompra \n",
    "                    break\n",
    "                elif j >= stopVenda:\n",
    "                    print('stop', j)\n",
    "                    resultado = venda - stopVenda\n",
    "                    break\n",
    "                else:\n",
    "                    print('nope')\n",
    "            break\n",
    "    return resultado\n",
    "\n",
    "def opVendaLimpo(maxima, venda, stopVenda, vendaCompra):\n",
    "    resultado = 0\n",
    "    for i, j in zip(maxima[4:],np.arange(4,len(maxima))):\n",
    "        if i >= venda:\n",
    "            ind = j\n",
    "            entrada = i\n",
    "            for (i,j) in zip(minima[ind:], maxima[ind:]):\n",
    "                if i <= vendaCompra:\n",
    "                    resultado = venda - vendaCompra \n",
    "                    break\n",
    "                elif j >= stopVenda:\n",
    "                    resultado = venda - stopVenda\n",
    "                    break\n",
    "            break\n",
    "    return resultado\n",
    "\n",
    "def opCompra(minima, compra, stopCompra, compraVenda):\n",
    "    print('Operação: Compra')\n",
    "    resultado = 0\n",
    "    for i, j in zip(minima[4:],np.arange(4,len(minima))):\n",
    "        if i <= compra:\n",
    "            ind = j\n",
    "            entrada = i\n",
    "            print('Compra: '+str(entrada))\n",
    "            for (i,j) in zip(maxima[ind:], minima[ind:]):\n",
    "                if i >= compraVenda:\n",
    "                    print('venda', i)\n",
    "                    resultado = compraVenda - compra\n",
    "                    break\n",
    "                elif j <= stopCompra:\n",
    "                    print('stop', j)\n",
    "                    resultado = compra - stopCompra\n",
    "                    break\n",
    "                else:\n",
    "                    print('nope')\n",
    "            break\n",
    "    return resultado\n",
    "\n",
    "def opCompraLimpo(minima, compra, stopCompra, compraVenda):\n",
    "    resultado = 0\n",
    "    for i, j in zip(minima[4:],np.arange(4,len(minima))):\n",
    "        if i <= compra:\n",
    "            ind = j\n",
    "            entrada = i\n",
    "            for (i,j) in zip(maxima[ind:], minima[ind:]):\n",
    "                if i >= compraVenda:\n",
    "                    resultado = compraVenda - compra\n",
    "                    break\n",
    "                elif j <= stopCompra:\n",
    "                    resultado = compra - stopCompra\n",
    "                    break\n",
    "            break\n",
    "    return resultado\n",
    "\n",
    "def operacao(dia):\n",
    "    minima = dia.Mínima.to_numpy()\n",
    "    maxima = dia.Máxima.to_numpy()\n",
    "\n",
    "    fechamento = dia.Fechamento.to_numpy()\n",
    "    abertura = dia.Abertura.to_numpy()\n",
    "    \n",
    "    mini = minima[:4].min()\n",
    "    maxi = maxima[:4].max()\n",
    "    altura = maxi - mini\n",
    "    media = altura / 2\n",
    "    \n",
    "    fechamento5 = abertura[4]\n",
    "    compra = mini + (media/2) \n",
    "    venda = maxi - (media/2)\n",
    "    compraVenda = maxi + 100\n",
    "    vendaCompra = mini - 100\n",
    "    stopCompra = mini\n",
    "    stopVenda = maxi\n",
    "    resultado = 0\n",
    "    \n",
    "    if fechamento5 < (mini+media):\n",
    "        #operacao de venda\n",
    "        resultado = opVenda(maxima, venda, stopVenda, vendaCompra)\n",
    "    elif fechamento5 > (mini+media):\n",
    "        #operacao de compra\n",
    "        resultado = opCompra(minima, compra, stopCompra, compraVenda)\n",
    "    else: \n",
    "        print('valor na media')\n",
    "        \n",
    "    resultado = resultado/5\n",
    "    print('Resultado: '+str(resultado))\n",
    "\n",
    "def operacaoLimpo(dia):\n",
    "    minima = dia.Mínima.to_numpy()\n",
    "    maxima = dia.Máxima.to_numpy()\n",
    "\n",
    "    fechamento = dia.Fechamento.to_numpy()\n",
    "    abertura = dia.Abertura.to_numpy()\n",
    "    \n",
    "    mini = minima[:4].min()\n",
    "    maxi = maxima[:4].max()\n",
    "    altura = maxi - mini\n",
    "    media = altura / 2\n",
    "    \n",
    "    fechamento5 = abertura[4]\n",
    "    compra = mini + (media/2) \n",
    "    venda = maxi - (media/2)\n",
    "    compraVenda = maxi + 100\n",
    "    vendaCompra = mini - 100\n",
    "    stopCompra = mini\n",
    "    stopVenda = maxi\n",
    "    resultado = 0\n",
    "    \n",
    "    if fechamento5 < (mini+media):\n",
    "        #operacao de venda\n",
    "        resultado = opVendaLimpo(maxima, venda, stopVenda, vendaCompra)\n",
    "    elif fechamento5 > (mini+media):\n",
    "        #operacao de compra\n",
    "        resultado = opCompraLimpo(minima, compra, stopCompra, compraVenda)\n",
    "    else:\n",
    "        resultado = 0\n",
    "\n",
    "    resultado = resultado/5\n",
    "    return resultado\n",
    "    \n",
    "def todoPeriodo(df): \n",
    "    excel['Data'] = pd.to_datetime(df['Data'])\n",
    "    datas = excel.Data.dt.date.unique()\n",
    "    resultado = 0\n",
    "    \n",
    "    for i in datas:\n",
    "        dia = []\n",
    "        dia = excel[(excel['Data'] > pd.Timestamp(i)) & (excel['Data'] < pd.Timestamp(i)+pd.to_timedelta(1,'d'))]\n",
    "        if len(dia) > 4: \n",
    "            resultado += operacaoLimpo(dia)\n",
    "        \n",
    "    return resultado"
   ]
  },
  {
   "cell_type": "code",
   "execution_count": 654,
   "metadata": {},
   "outputs": [],
   "source": [
    "uso = excel[(excel['Data'] > '2019-04-01') & (excel['Data'] < '2020-02-06')]"
   ]
  },
  {
   "cell_type": "code",
   "execution_count": null,
   "metadata": {},
   "outputs": [],
   "source": []
  },
  {
   "cell_type": "code",
   "execution_count": 649,
   "metadata": {},
   "outputs": [
    {
     "name": "stdout",
     "output_type": "stream",
     "text": [
      "Operação: Venda\n",
      "Venda: 100120.88\n",
      "nope\n",
      "nope\n",
      "nope\n",
      "nope\n",
      "nope\n",
      "nope\n",
      "stop 100250.24\n",
      "Resultado: -23.025500000000466\n"
     ]
    }
   ],
   "source": [
    "operacao(uso)"
   ]
  },
  {
   "cell_type": "code",
   "execution_count": 655,
   "metadata": {},
   "outputs": [
    {
     "data": {
      "text/plain": [
       "7346.321000000001"
      ]
     },
     "execution_count": 655,
     "metadata": {},
     "output_type": "execute_result"
    }
   ],
   "source": [
    "todoPeriodo(uso)"
   ]
  },
  {
   "cell_type": "code",
   "execution_count": 647,
   "metadata": {},
   "outputs": [
    {
     "name": "stdout",
     "output_type": "stream",
     "text": [
      "321.81489999999997\n"
     ]
    }
   ],
   "source": [
    "dia01_04a05_04 = -23.0255+86.747+0+123.225+134.8684\n",
    "print(dia01_04a05_04)"
   ]
  },
  {
   "cell_type": "code",
   "execution_count": 585,
   "metadata": {},
   "outputs": [
    {
     "name": "stdout",
     "output_type": "stream",
     "text": [
      "146.25\n"
     ]
    }
   ],
   "source": [
    "dia31_01a06_01 = -28.75+110+29.75+35.25\n",
    "print(dia31_01a06_01)"
   ]
  },
  {
   "cell_type": "code",
   "execution_count": 501,
   "metadata": {},
   "outputs": [
    {
     "data": {
      "text/html": [
       "<div>\n",
       "<style scoped>\n",
       "    .dataframe tbody tr th:only-of-type {\n",
       "        vertical-align: middle;\n",
       "    }\n",
       "\n",
       "    .dataframe tbody tr th {\n",
       "        vertical-align: top;\n",
       "    }\n",
       "\n",
       "    .dataframe thead th {\n",
       "        text-align: right;\n",
       "    }\n",
       "</style>\n",
       "<table border=\"1\" class=\"dataframe\">\n",
       "  <thead>\n",
       "    <tr style=\"text-align: right;\">\n",
       "      <th></th>\n",
       "      <th>Data</th>\n",
       "      <th>Abertura</th>\n",
       "      <th>Máxima</th>\n",
       "      <th>Mínima</th>\n",
       "      <th>Fechamento</th>\n",
       "    </tr>\n",
       "  </thead>\n",
       "  <tbody>\n",
       "    <tr>\n",
       "      <th>7769</th>\n",
       "      <td>2019-04-01 09:00:00</td>\n",
       "      <td>99774.21</td>\n",
       "      <td>100193.32</td>\n",
       "      <td>99732.81</td>\n",
       "      <td>100027.74</td>\n",
       "    </tr>\n",
       "    <tr>\n",
       "      <th>7768</th>\n",
       "      <td>2019-04-01 09:15:00</td>\n",
       "      <td>100022.57</td>\n",
       "      <td>100157.10</td>\n",
       "      <td>99867.34</td>\n",
       "      <td>99919.09</td>\n",
       "    </tr>\n",
       "    <tr>\n",
       "      <th>7767</th>\n",
       "      <td>2019-04-01 09:30:00</td>\n",
       "      <td>99913.91</td>\n",
       "      <td>99965.65</td>\n",
       "      <td>99810.43</td>\n",
       "      <td>99929.43</td>\n",
       "    </tr>\n",
       "    <tr>\n",
       "      <th>7766</th>\n",
       "      <td>2019-04-01 09:45:00</td>\n",
       "      <td>99929.43</td>\n",
       "      <td>99991.52</td>\n",
       "      <td>99763.86</td>\n",
       "      <td>99944.96</td>\n",
       "    </tr>\n",
       "    <tr>\n",
       "      <th>7765</th>\n",
       "      <td>2019-04-01 10:00:00</td>\n",
       "      <td>99950.13</td>\n",
       "      <td>100120.88</td>\n",
       "      <td>99867.34</td>\n",
       "      <td>99924.26</td>\n",
       "    </tr>\n",
       "    <tr>\n",
       "      <th>...</th>\n",
       "      <td>...</td>\n",
       "      <td>...</td>\n",
       "      <td>...</td>\n",
       "      <td>...</td>\n",
       "      <td>...</td>\n",
       "    </tr>\n",
       "    <tr>\n",
       "      <th>4</th>\n",
       "      <td>2020-02-06 17:00:00</td>\n",
       "      <td>114785.00</td>\n",
       "      <td>115040.00</td>\n",
       "      <td>114775.00</td>\n",
       "      <td>115015.00</td>\n",
       "    </tr>\n",
       "    <tr>\n",
       "      <th>3</th>\n",
       "      <td>2020-02-06 17:15:00</td>\n",
       "      <td>115010.00</td>\n",
       "      <td>115200.00</td>\n",
       "      <td>114860.00</td>\n",
       "      <td>114900.00</td>\n",
       "    </tr>\n",
       "    <tr>\n",
       "      <th>2</th>\n",
       "      <td>2020-02-06 17:30:00</td>\n",
       "      <td>114905.00</td>\n",
       "      <td>115180.00</td>\n",
       "      <td>114895.00</td>\n",
       "      <td>115120.00</td>\n",
       "    </tr>\n",
       "    <tr>\n",
       "      <th>1</th>\n",
       "      <td>2020-02-06 17:45:00</td>\n",
       "      <td>115120.00</td>\n",
       "      <td>115270.00</td>\n",
       "      <td>115105.00</td>\n",
       "      <td>115175.00</td>\n",
       "    </tr>\n",
       "    <tr>\n",
       "      <th>0</th>\n",
       "      <td>2020-02-06 18:00:00</td>\n",
       "      <td>115170.00</td>\n",
       "      <td>115250.00</td>\n",
       "      <td>115075.00</td>\n",
       "      <td>115250.00</td>\n",
       "    </tr>\n",
       "  </tbody>\n",
       "</table>\n",
       "<p>7770 rows × 5 columns</p>\n",
       "</div>"
      ],
      "text/plain": [
       "                    Data   Abertura     Máxima     Mínima  Fechamento\n",
       "7769 2019-04-01 09:00:00   99774.21  100193.32   99732.81   100027.74\n",
       "7768 2019-04-01 09:15:00  100022.57  100157.10   99867.34    99919.09\n",
       "7767 2019-04-01 09:30:00   99913.91   99965.65   99810.43    99929.43\n",
       "7766 2019-04-01 09:45:00   99929.43   99991.52   99763.86    99944.96\n",
       "7765 2019-04-01 10:00:00   99950.13  100120.88   99867.34    99924.26\n",
       "...                  ...        ...        ...        ...         ...\n",
       "4    2020-02-06 17:00:00  114785.00  115040.00  114775.00   115015.00\n",
       "3    2020-02-06 17:15:00  115010.00  115200.00  114860.00   114900.00\n",
       "2    2020-02-06 17:30:00  114905.00  115180.00  114895.00   115120.00\n",
       "1    2020-02-06 17:45:00  115120.00  115270.00  115105.00   115175.00\n",
       "0    2020-02-06 18:00:00  115170.00  115250.00  115075.00   115250.00\n",
       "\n",
       "[7770 rows x 5 columns]"
      ]
     },
     "execution_count": 501,
     "metadata": {},
     "output_type": "execute_result"
    }
   ],
   "source": [
    "excel"
   ]
  },
  {
   "cell_type": "code",
   "execution_count": 514,
   "metadata": {},
   "outputs": [],
   "source": [
    "excel['Data'] = pd.to_datetime(excel['Data'])"
   ]
  },
  {
   "cell_type": "code",
   "execution_count": 515,
   "metadata": {},
   "outputs": [
    {
     "data": {
      "text/plain": [
       "Data\n",
       "2019-04-01    36\n",
       "2019-04-02    36\n",
       "2019-04-03    36\n",
       "2019-04-04    36\n",
       "2019-04-05    36\n",
       "              ..\n",
       "2020-01-31    37\n",
       "2020-02-03    37\n",
       "2020-02-04    37\n",
       "2020-02-05    37\n",
       "2020-02-06    37\n",
       "Name: Data, Length: 214, dtype: int64"
      ]
     },
     "execution_count": 515,
     "metadata": {},
     "output_type": "execute_result"
    }
   ],
   "source": [
    "excel.groupby(excel.Data.dt.date).Data.count()"
   ]
  },
  {
   "cell_type": "code",
   "execution_count": null,
   "metadata": {},
   "outputs": [],
   "source": []
  },
  {
   "cell_type": "code",
   "execution_count": 529,
   "metadata": {},
   "outputs": [],
   "source": [
    "dia = excel[(excel['Data'] > '2020-01-09') & (excel['Data'] < '2020-01-10')]"
   ]
  },
  {
   "cell_type": "code",
   "execution_count": 530,
   "metadata": {},
   "outputs": [
    {
     "name": "stdout",
     "output_type": "stream",
     "text": [
      "Operação: Venda\n",
      "Venda: 117335.0\n",
      "nope\n",
      "nope\n",
      "nope\n",
      "nope\n",
      "compra 116310.0\n",
      "Resultado: 158.0\n"
     ]
    }
   ],
   "source": [
    "operacao(dia)"
   ]
  },
  {
   "cell_type": "code",
   "execution_count": null,
   "metadata": {},
   "outputs": [],
   "source": []
  },
  {
   "cell_type": "code",
   "execution_count": 423,
   "metadata": {},
   "outputs": [],
   "source": []
  },
  {
   "cell_type": "code",
   "execution_count": 424,
   "metadata": {},
   "outputs": [],
   "source": []
  },
  {
   "cell_type": "code",
   "execution_count": null,
   "metadata": {},
   "outputs": [],
   "source": []
  },
  {
   "cell_type": "code",
   "execution_count": null,
   "metadata": {},
   "outputs": [],
   "source": []
  },
  {
   "cell_type": "code",
   "execution_count": null,
   "metadata": {},
   "outputs": [],
   "source": []
  },
  {
   "cell_type": "code",
   "execution_count": 416,
   "metadata": {},
   "outputs": [
    {
     "data": {
      "text/plain": [
       "7"
      ]
     },
     "execution_count": 416,
     "metadata": {},
     "output_type": "execute_result"
    }
   ],
   "source": [
    "ind + 1"
   ]
  },
  {
   "cell_type": "code",
   "execution_count": 381,
   "metadata": {},
   "outputs": [
    {
     "name": "stdout",
     "output_type": "stream",
     "text": [
      "nope\n",
      "nope\n",
      "nope\n",
      "venda 118200.0\n"
     ]
    }
   ],
   "source": [
    "\n",
    "\n",
    "resultado = resultado/100*20"
   ]
  },
  {
   "cell_type": "code",
   "execution_count": 382,
   "metadata": {},
   "outputs": [
    {
     "data": {
      "text/plain": [
       "117735.0"
      ]
     },
     "execution_count": 382,
     "metadata": {},
     "output_type": "execute_result"
    }
   ],
   "source": [
    "comprou"
   ]
  },
  {
   "cell_type": "code",
   "execution_count": 257,
   "metadata": {},
   "outputs": [
    {
     "name": "stdout",
     "output_type": "stream",
     "text": [
      "venda 117740.0\n"
     ]
    }
   ],
   "source": [
    "for (i,j) in zip(maxima[4:], minima[4:]):\n",
    "    if i >= compraVenda:\n",
    "        print('venda', i)\n",
    "        resultado = compraVenda - compra\n",
    "        break\n",
    "    elif j <= stopCompra:\n",
    "        print('stop', j)\n",
    "        resultado = vendaCompra - venda\n",
    "        break\n",
    "    else:\n",
    "        print('nope')\n",
    "\n",
    "resultado = resultado/100*20"
   ]
  },
  {
   "cell_type": "code",
   "execution_count": null,
   "metadata": {},
   "outputs": [],
   "source": []
  },
  {
   "cell_type": "code",
   "execution_count": 383,
   "metadata": {},
   "outputs": [
    {
     "data": {
      "text/plain": [
       "80.0"
      ]
     },
     "execution_count": 383,
     "metadata": {},
     "output_type": "execute_result"
    }
   ],
   "source": [
    "resultado"
   ]
  },
  {
   "cell_type": "code",
   "execution_count": null,
   "metadata": {},
   "outputs": [],
   "source": []
  },
  {
   "cell_type": "code",
   "execution_count": null,
   "metadata": {},
   "outputs": [],
   "source": []
  },
  {
   "cell_type": "code",
   "execution_count": null,
   "metadata": {},
   "outputs": [],
   "source": []
  },
  {
   "cell_type": "code",
   "execution_count": null,
   "metadata": {},
   "outputs": [],
   "source": []
  },
  {
   "cell_type": "code",
   "execution_count": null,
   "metadata": {},
   "outputs": [],
   "source": []
  },
  {
   "cell_type": "code",
   "execution_count": null,
   "metadata": {},
   "outputs": [],
   "source": [
    "for i in maxima, minima:\n",
    "    if mini <= compra:\n",
    "        print(i)\n",
    "        vlrCompra = compra\n",
    "        break"
   ]
  },
  {
   "cell_type": "code",
   "execution_count": null,
   "metadata": {},
   "outputs": [],
   "source": []
  },
  {
   "cell_type": "code",
   "execution_count": null,
   "metadata": {},
   "outputs": [],
   "source": []
  },
  {
   "cell_type": "code",
   "execution_count": 105,
   "metadata": {},
   "outputs": [],
   "source": [
    "altura = maxima[0] - minima[0]"
   ]
  },
  {
   "cell_type": "code",
   "execution_count": 106,
   "metadata": {},
   "outputs": [],
   "source": [
    "media = altura / 2"
   ]
  },
  {
   "cell_type": "code",
   "execution_count": 107,
   "metadata": {},
   "outputs": [],
   "source": [
    "compra = minima + (media / 2)\n",
    "venda = minima + (media / 2 + media)"
   ]
  },
  {
   "cell_type": "code",
   "execution_count": 108,
   "metadata": {},
   "outputs": [
    {
     "data": {
      "text/plain": [
       "116822.5"
      ]
     },
     "execution_count": 108,
     "metadata": {},
     "output_type": "execute_result"
    }
   ],
   "source": [
    "compra[0]"
   ]
  },
  {
   "cell_type": "code",
   "execution_count": 109,
   "metadata": {},
   "outputs": [
    {
     "data": {
      "text/plain": [
       "117007.5"
      ]
     },
     "execution_count": 109,
     "metadata": {},
     "output_type": "execute_result"
    }
   ],
   "source": [
    "venda[0]"
   ]
  },
  {
   "cell_type": "code",
   "execution_count": 110,
   "metadata": {},
   "outputs": [
    {
     "ename": "IndexError",
     "evalue": "arrays used as indices must be of integer (or boolean) type",
     "output_type": "error",
     "traceback": [
      "\u001b[1;31m---------------------------------------------------------------------------\u001b[0m",
      "\u001b[1;31mIndexError\u001b[0m                                Traceback (most recent call last)",
      "\u001b[1;32m<ipython-input-110-ac8a02e7ebbd>\u001b[0m in \u001b[0;36m<module>\u001b[1;34m()\u001b[0m\n\u001b[0;32m      1\u001b[0m \u001b[1;32mfor\u001b[0m \u001b[0mi\u001b[0m \u001b[1;32min\u001b[0m \u001b[0mminima\u001b[0m\u001b[1;33m,\u001b[0m\u001b[0mmaxima\u001b[0m\u001b[1;33m,\u001b[0m\u001b[0mfechamento\u001b[0m\u001b[1;33m:\u001b[0m\u001b[1;33m\u001b[0m\u001b[0m\n\u001b[1;32m----> 2\u001b[1;33m     \u001b[1;32mif\u001b[0m \u001b[0mfechamento\u001b[0m\u001b[1;33m[\u001b[0m\u001b[0mi\u001b[0m\u001b[1;33m]\u001b[0m \u001b[1;33m>\u001b[0m \u001b[1;33m(\u001b[0m\u001b[0mmaxima\u001b[0m\u001b[1;33m[\u001b[0m\u001b[0mi\u001b[0m\u001b[1;33m]\u001b[0m \u001b[1;33m+\u001b[0m \u001b[1;36m100\u001b[0m\u001b[1;33m)\u001b[0m\u001b[1;33m:\u001b[0m\u001b[1;33m\u001b[0m\u001b[0m\n\u001b[0m\u001b[0;32m      3\u001b[0m         \u001b[0mresultado\u001b[0m \u001b[1;33m=\u001b[0m \u001b[0mfechamento\u001b[0m\u001b[1;33m[\u001b[0m\u001b[0mi\u001b[0m\u001b[1;33m]\u001b[0m \u001b[1;33m-\u001b[0m \u001b[0mcompra\u001b[0m\u001b[1;33m[\u001b[0m\u001b[0mi\u001b[0m\u001b[1;33m]\u001b[0m\u001b[1;33m\u001b[0m\u001b[0m\n",
      "\u001b[1;31mIndexError\u001b[0m: arrays used as indices must be of integer (or boolean) type"
     ]
    }
   ],
   "source": [
    "for i in minima,maxima,fechamento:\n",
    "    if fechamento[i] > (maxima[i] + 100):\n",
    "        resultado = fechamento[i] - compra[i]"
   ]
  }
 ],
 "metadata": {
  "kernelspec": {
   "display_name": "Python 3",
   "language": "python",
   "name": "python3"
  },
  "language_info": {
   "codemirror_mode": {
    "name": "ipython",
    "version": 3
   },
   "file_extension": ".py",
   "mimetype": "text/x-python",
   "name": "python",
   "nbconvert_exporter": "python",
   "pygments_lexer": "ipython3",
   "version": "3.7.0"
  }
 },
 "nbformat": 4,
 "nbformat_minor": 2
}
